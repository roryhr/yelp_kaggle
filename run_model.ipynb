{
 "cells": [
  {
   "cell_type": "code",
   "execution_count": 1,
   "metadata": {
    "collapsed": false
   },
   "outputs": [
    {
     "name": "stderr",
     "output_type": "stream",
     "text": [
      "Using TensorFlow backend.\n"
     ]
    }
   ],
   "source": [
    "from keras_models import KerasGraphModel"
   ]
  },
  {
   "cell_type": "markdown",
   "metadata": {},
   "source": [
    "We start off with a single import statement. Nice! Note the TensorFlow backend..."
   ]
  },
  {
   "cell_type": "code",
   "execution_count": 2,
   "metadata": {
    "collapsed": false
   },
   "outputs": [],
   "source": [
    "model = KerasGraphModel()"
   ]
  },
  {
   "cell_type": "markdown",
   "metadata": {},
   "source": [
    "Great, now I have a model. Let's so something with it. "
   ]
  },
  {
   "cell_type": "code",
   "execution_count": 3,
   "metadata": {
    "collapsed": true
   },
   "outputs": [],
   "source": [
    "model.build_residual_network()"
   ]
  },
  {
   "cell_type": "code",
   "execution_count": 4,
   "metadata": {
    "collapsed": false
   },
   "outputs": [
    {
     "name": "stdout",
     "output_type": "stream",
     "text": [
      "--------------------------------------------------------------------------------\n",
      "Layer (name)                  Output Shape                  Param #             \n",
      "--------------------------------------------------------------------------------\n",
      "Layer (input)                 (None, 3, 224, 224)           0                   \n",
      "Convolution2D (conv1_1)       (None, 64, 112, 112)          9472                \n",
      "BatchNormalization (bn1_1)    (None, 64, 112, 112)          224                 \n",
      "Activation (relu1_1)          (None, 64, 112, 112)          0                   \n",
      "MaxPooling2D (pool1)          (None, 64, 56, 56)            0                   \n",
      "Convolution2D (conv2_1)       (None, 64, 56, 56)            36928               \n",
      "BatchNormalization (bn2_1)    (None, 64, 56, 56)            112                 \n",
      "Activation (relu2_1)          (None, 64, 56, 56)            0                   \n",
      "Convolution2D (conv2_2)       (None, 64, 56, 56)            36928               \n",
      "BatchNormalization (bn2_2)    (None, 64, 56, 56)            112                 \n",
      "Activation (relu2_2)          (None, 64, 56, 56)            0                   \n",
      "Convolution2D (conv2_3)       (None, 64, 56, 56)            36928               \n",
      "BatchNormalization (bn2_3)    (None, 64, 56, 56)            112                 \n",
      "Activation (relu2_3)          (None, 64, 56, 56)            0                   \n",
      "Convolution2D (conv2_4)       (None, 64, 56, 56)            36928               \n",
      "BatchNormalization (bn2_4)    (None, 64, 56, 56)            112                 \n",
      "Activation (relu2_4)          (None, 64, 56, 56)            0                   \n",
      "Convolution2D (conv2_5)       (None, 64, 56, 56)            36928               \n",
      "BatchNormalization (bn2_5)    (None, 64, 56, 56)            112                 \n",
      "Activation (relu2_5)          (None, 64, 56, 56)            0                   \n",
      "Convolution2D (conv2_6)       (None, 64, 56, 56)            36928               \n",
      "BatchNormalization (bn2_6)    (None, 64, 56, 56)            112                 \n",
      "Activation (relu2_6)          (None, 64, 56, 56)            0                   \n",
      "Convolution2D (conv3_1)       (None, 128, 28, 28)           73856               \n",
      "BatchNormalization (bn3_1)    (None, 128, 28, 28)           56                  \n",
      "Activation (relu3_1)          (None, 128, 28, 28)           0                   \n",
      "Convolution2D (conv3_2)       (None, 128, 28, 28)           147584              \n",
      "BatchNormalization (bn3_2)    (None, 128, 28, 28)           56                  \n",
      "Convolution2D (short3_1)      (None, 32, 56, 56)            2080                \n",
      "BatchNormalization (short_bn3_(None, 32, 56, 56)            112                 \n",
      "Reshape (short_reshape3_1)    (None, 128, 28, 28)           0                   \n",
      "Activation (relu3_2)          (None, 128, 28, 28)           0                   \n",
      "Convolution2D (conv3_3)       (None, 128, 28, 28)           147584              \n",
      "BatchNormalization (bn3_3)    (None, 128, 28, 28)           56                  \n",
      "Activation (relu3_3)          (None, 128, 28, 28)           0                   \n",
      "Convolution2D (conv3_4)       (None, 128, 28, 28)           147584              \n",
      "BatchNormalization (bn3_4)    (None, 128, 28, 28)           56                  \n",
      "Activation (relu3_4)          (None, 128, 28, 28)           0                   \n",
      "Convolution2D (conv3_5)       (None, 128, 28, 28)           147584              \n",
      "BatchNormalization (bn3_5)    (None, 128, 28, 28)           56                  \n",
      "Activation (relu3_5)          (None, 128, 28, 28)           0                   \n",
      "Convolution2D (conv3_6)       (None, 128, 28, 28)           147584              \n",
      "BatchNormalization (bn3_6)    (None, 128, 28, 28)           56                  \n",
      "Activation (relu3_6)          (None, 128, 28, 28)           0                   \n",
      "Convolution2D (conv3_7)       (None, 128, 28, 28)           147584              \n",
      "BatchNormalization (bn3_7)    (None, 128, 28, 28)           56                  \n",
      "Activation (relu3_7)          (None, 128, 28, 28)           0                   \n",
      "Convolution2D (conv3_8)       (None, 128, 28, 28)           147584              \n",
      "BatchNormalization (bn3_8)    (None, 128, 28, 28)           56                  \n",
      "Activation (relu3_8)          (None, 128, 28, 28)           0                   \n",
      "Convolution2D (conv4_1)       (None, 256, 14, 14)           295168              \n",
      "BatchNormalization (bn4_1)    (None, 256, 14, 14)           28                  \n",
      "Activation (relu4_1)          (None, 256, 14, 14)           0                   \n",
      "Convolution2D (conv4_2)       (None, 256, 14, 14)           590080              \n",
      "BatchNormalization (bn4_2)    (None, 256, 14, 14)           28                  \n",
      "Convolution2D (short4_1)      (None, 64, 28, 28)            8256                \n",
      "BatchNormalization (short_bn4_(None, 64, 28, 28)            56                  \n",
      "Reshape (short_reshape4_1)    (None, 256, 14, 14)           0                   \n",
      "Activation (relu4_2)          (None, 256, 14, 14)           0                   \n",
      "Convolution2D (conv4_3)       (None, 256, 14, 14)           590080              \n",
      "BatchNormalization (bn4_3)    (None, 256, 14, 14)           28                  \n",
      "Activation (relu4_3)          (None, 256, 14, 14)           0                   \n",
      "Convolution2D (conv4_4)       (None, 256, 14, 14)           590080              \n",
      "BatchNormalization (bn4_4)    (None, 256, 14, 14)           28                  \n",
      "Activation (relu4_4)          (None, 256, 14, 14)           0                   \n",
      "Convolution2D (conv4_5)       (None, 256, 14, 14)           590080              \n",
      "BatchNormalization (bn4_5)    (None, 256, 14, 14)           28                  \n",
      "Activation (relu4_5)          (None, 256, 14, 14)           0                   \n",
      "Convolution2D (conv4_6)       (None, 256, 14, 14)           590080              \n",
      "BatchNormalization (bn4_6)    (None, 256, 14, 14)           28                  \n",
      "Activation (relu4_6)          (None, 256, 14, 14)           0                   \n",
      "Convolution2D (conv4_7)       (None, 256, 14, 14)           590080              \n",
      "BatchNormalization (bn4_7)    (None, 256, 14, 14)           28                  \n",
      "Activation (relu4_7)          (None, 256, 14, 14)           0                   \n",
      "Convolution2D (conv4_8)       (None, 256, 14, 14)           590080              \n",
      "BatchNormalization (bn4_8)    (None, 256, 14, 14)           28                  \n",
      "Activation (relu4_8)          (None, 256, 14, 14)           0                   \n",
      "Convolution2D (conv4_9)       (None, 256, 14, 14)           590080              \n",
      "BatchNormalization (bn4_9)    (None, 256, 14, 14)           28                  \n",
      "Activation (relu4_9)          (None, 256, 14, 14)           0                   \n",
      "Convolution2D (conv4_10)      (None, 256, 14, 14)           590080              \n",
      "BatchNormalization (bn4_10)   (None, 256, 14, 14)           28                  \n",
      "Activation (relu4_10)         (None, 256, 14, 14)           0                   \n",
      "Convolution2D (conv4_11)      (None, 256, 14, 14)           590080              \n",
      "BatchNormalization (bn4_11)   (None, 256, 14, 14)           28                  \n",
      "Activation (relu4_11)         (None, 256, 14, 14)           0                   \n",
      "Convolution2D (conv4_12)      (None, 256, 14, 14)           590080              \n",
      "BatchNormalization (bn4_12)   (None, 256, 14, 14)           28                  \n",
      "Activation (relu4_12)         (None, 256, 14, 14)           0                   \n",
      "Convolution2D (conv5_1)       (None, 512, 7, 7)             1180160             \n",
      "BatchNormalization (bn5_1)    (None, 512, 7, 7)             14                  \n",
      "Activation (relu5_1)          (None, 512, 7, 7)             0                   \n",
      "Convolution2D (conv5_2)       (None, 512, 7, 7)             2359808             \n",
      "BatchNormalization (bn5_2)    (None, 512, 7, 7)             14                  \n",
      "Convolution2D (short5_1)      (None, 128, 14, 14)           32896               \n",
      "BatchNormalization (short_bn5_(None, 128, 14, 14)           28                  \n",
      "Reshape (short_reshape5_1)    (None, 512, 7, 7)             0                   \n",
      "Activation (relu5_2)          (None, 512, 7, 7)             0                   \n",
      "Convolution2D (conv5_3)       (None, 512, 7, 7)             2359808             \n",
      "BatchNormalization (bn5_3)    (None, 512, 7, 7)             14                  \n",
      "Activation (relu5_3)          (None, 512, 7, 7)             0                   \n",
      "Convolution2D (conv5_4)       (None, 512, 7, 7)             2359808             \n",
      "BatchNormalization (bn5_4)    (None, 512, 7, 7)             14                  \n",
      "Activation (relu5_4)          (None, 512, 7, 7)             0                   \n",
      "Convolution2D (conv5_5)       (None, 512, 7, 7)             2359808             \n",
      "BatchNormalization (bn5_5)    (None, 512, 7, 7)             14                  \n",
      "Activation (relu5_5)          (None, 512, 7, 7)             0                   \n",
      "Convolution2D (conv5_6)       (None, 512, 7, 7)             2359808             \n",
      "BatchNormalization (bn5_6)    (None, 512, 7, 7)             14                  \n",
      "Activation (relu5_6)          (None, 512, 7, 7)             0                   \n",
      "AveragePooling2D (pool2)      (None, 512, 1, 1)             0                   \n",
      "Flatten (flatten)             (None, 512)                   0                   \n",
      "Dense (dense)                 (None, 9)                     4617                \n",
      "Dense (output)                (None, 9)                     4617                \n",
      "--------------------------------------------------------------------------------\n",
      "Total params: 21153041\n",
      "--------------------------------------------------------------------------------\n"
     ]
    }
   ],
   "source": [
    "model.graph.summary()"
   ]
  },
  {
   "cell_type": "code",
   "execution_count": null,
   "metadata": {
    "collapsed": true
   },
   "outputs": [],
   "source": [
    "image_loader = ImageLoader()\n",
    "im_files = list(Path('data/train_photos').glob('*[0-9].jpg'))\n",
    "train_im_func = image_loader.graph_train_generator(im_files) # No validation data for now\n",
    "\n",
    "# test_images = next(train_im_func)"
   ]
  },
  {
   "cell_type": "code",
   "execution_count": null,
   "outputs": [],
   "source": [
    ""
   ]
  },
  {
   "cell_type": "code",
   "execution_count": null,
   "metadata": {
    "collapsed": true
   },
   "outputs": [],
   "source": [
    "# Fit on 30 mini-batches of 200 samples for 3 epochs\n",
    "model.graph.fit_generator(train_im_func, 200*30, 3)"
   ]
  },
  {
   "cell_type": "code",
   "execution_count": null,
   "metadata": {
    "collapsed": true
   },
   "outputs": [],
   "source": [
    "model.generate_submission()"
   ]
  }
 ],
 "metadata": {
  "kernelspec": {
   "display_name": "Python 3",
   "language": "python",
   "name": "python3"
  },
  "language_info": {
   "codemirror_mode": {
    "name": "ipython",
    "version": 3.0
   },
   "file_extension": ".py",
   "mimetype": "text/x-python",
   "name": "python",
   "nbconvert_exporter": "python",
   "pygments_lexer": "ipython3",
   "version": "3.5.1"
  }
 },
 "nbformat": 4,
 "nbformat_minor": 0
}